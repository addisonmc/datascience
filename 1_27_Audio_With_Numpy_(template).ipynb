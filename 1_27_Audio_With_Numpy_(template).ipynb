{
  "nbformat": 4,
  "nbformat_minor": 0,
  "metadata": {
    "colab": {
      "provenance": [],
      "toc_visible": true,
      "include_colab_link": true
    },
    "kernelspec": {
      "name": "python3",
      "display_name": "Python 3"
    },
    "language_info": {
      "name": "python"
    }
  },
  "cells": [
    {
      "cell_type": "markdown",
      "metadata": {
        "id": "view-in-github",
        "colab_type": "text"
      },
      "source": [
        "<a href=\"https://colab.research.google.com/github/addisonmc/datascience/blob/main/1_27_Audio_With_Numpy_(template).ipynb\" target=\"_parent\"><img src=\"https://colab.research.google.com/assets/colab-badge.svg\" alt=\"Open In Colab\"/></a>"
      ]
    },
    {
      "cell_type": "markdown",
      "source": [
        "# Numpy basics for Math ... and music\n",
        "\n",
        "numpy ('num-pie' not 'num-pee'!) is a very important python library that is specifically designed for vector computations modelled after matlab.\n",
        "\n",
        "> Handling vectors is one of the few good things about matlab.\n",
        "\n",
        "Numpy vectors behave much like lists (len, indexing, etc.) but have the added benefit of actually behaving like mathematical vectors (in terms of `+` and `*`)\n",
        "\n",
        "We'll explore what it has to offer with:\n",
        "- `np.pi` (The mathematical constant $\\pi$)\n",
        "- addition of an `np.array` by a scalar and multiplying by another vector\n",
        "- `np.concatenate` (Combining arrays along a specified axis)\n",
        "- `np.linspace`, `np.zeros`, `np.ones` (Functions that generate arrays with either evenly spaced values, zeros, or ones respectively)\n",
        "- `np.sin`, `np.cos`, `np.sqrt`, `np.log` and other mathematical functions\n",
        "\n",
        "> Throughout this class we will ignore the Python `math` library. **`Numpy`** will be our trusty companion through the semester.\n",
        "\n",
        "As we move along, we will dive deeper into much more complex functions and apply what we have learned to higher-dimensional arrays. But for now we will stick to just simple one-dimensional (flat) vectors to demonstrate the basics.\n",
        "\n"
      ],
      "metadata": {
        "id": "MtZW7BJsfOoX"
      }
    },
    {
      "cell_type": "markdown",
      "source": [
        "In this course we represent data usually through the use of vectors.\n",
        "\n",
        "> As we will see with text data and term-vectors\n",
        "\n",
        "We will use what we have learned from this notebook to represent and play with music and sounds stored as numpy arrays. In particular, you will get to demonstrate your inner musician :)\n",
        "\n"
      ],
      "metadata": {
        "id": "O_A9P7XMZWAH"
      }
    },
    {
      "cell_type": "markdown",
      "source": [
        "# Importing numpy and accessing its contents"
      ],
      "metadata": {
        "id": "IH_rJPKkKBXy"
      }
    },
    {
      "cell_type": "code",
      "source": [
        "import numpy as np # we import the numpy package and give it an alias (name). This alias is how you will access the library's functions"
      ],
      "metadata": {
        "id": "KQw3eDa9e6qP"
      },
      "execution_count": null,
      "outputs": []
    },
    {
      "cell_type": "code",
      "source": [
        "#Examples of some functions you can call from numpy\n",
        "np.pi, np.cos(0), np.sin(np.pi/2)"
      ],
      "metadata": {
        "id": "MOKnf1PwJ9QJ"
      },
      "execution_count": null,
      "outputs": []
    },
    {
      "cell_type": "code",
      "source": [
        "# we can rename the functions to avoid having to constantly retype \"np\"\n",
        "pi = np.pi\n",
        "cos = np.cos\n",
        "sin = np.sin\n",
        "\n",
        "print(pi,cos(pi),sin(pi))"
      ],
      "metadata": {
        "id": "JJ0vc8ExmY95"
      },
      "execution_count": null,
      "outputs": []
    },
    {
      "cell_type": "markdown",
      "source": [
        "# Basics of np.arrays\n",
        "\n",
        "Sometimes you will create np.arrays from lists/tuples"
      ],
      "metadata": {
        "id": "lLLPlRU3NUME"
      }
    },
    {
      "cell_type": "code",
      "source": [
        "# Creating NumPy arrays with floating-point elements\n",
        "u = np.array([1.0, 2.0, 3.0, 10.0])  # Remember: If you want floats, make sure at least one element is a float!\n",
        "v = np.array([100.0, 200.0, 300.0, 500.0])\n",
        "\n",
        "# Performing element-wise addition of arrays u and v\n",
        "result_addition = u + v\n",
        "print(\"Result of addition:\", result_addition)\n",
        "\n",
        "# Trying element-wise multiplication of arrays u and v\n",
        "result_multiplication = u * v\n",
        "print(\"Result of multiplication:\", result_multiplication)\n",
        "\n",
        "# Feel free to explore more operations with NumPy arrays"
      ],
      "metadata": {
        "id": "YId6ypUB74vL"
      },
      "execution_count": null,
      "outputs": []
    },
    {
      "cell_type": "code",
      "source": [
        "# Expressing a combination of operations on NumPy arrays u and v\n",
        "v * u + 3 * v - u - v\n",
        "#Notice how all of our results are still stored as np.arrays"
      ],
      "metadata": {
        "id": "5C3ukHgJ7tU4"
      },
      "execution_count": null,
      "outputs": []
    },
    {
      "cell_type": "code",
      "source": [
        "len(u) #Tells you how many elements are in u"
      ],
      "metadata": {
        "id": "GIYNLbndBvVn"
      },
      "execution_count": null,
      "outputs": []
    },
    {
      "cell_type": "code",
      "source": [
        "u.shape # can also be used to provide length information"
      ],
      "metadata": {
        "id": "RQAxyh88nS2j"
      },
      "execution_count": null,
      "outputs": []
    },
    {
      "cell_type": "code",
      "source": [
        "# Demonstrating indexing and slicing with NumPy array u\n",
        "print('u for reference',u)\n",
        "first_element = u[0]      # Accessing the first element\n",
        "last_element = u[-1]      # Accessing the last element\n",
        "first_two_elements = u[:2]   # Slicing to get the first two elements\n",
        "last_two_elements = u[-2:]   # Slicing to get the last two elements\n",
        "\n",
        "# Displaying the results\n",
        "print(\"First element:\", first_element)\n",
        "print(\"Last element:\", last_element)\n",
        "print(\"First two elements:\", first_two_elements)\n",
        "print(\"Last two elements:\", last_two_elements)"
      ],
      "metadata": {
        "id": "REIWwbjiUyZt"
      },
      "execution_count": null,
      "outputs": []
    },
    {
      "cell_type": "code",
      "source": [
        "# Changing a sub-array in the NumPy array u\n",
        "u[:2] = 0\n",
        "\n",
        "# Displaying the modified array\n",
        "print(u)\n",
        "\n",
        "u[-2:] = np.array([1,2])\n",
        "print(u)"
      ],
      "metadata": {
        "id": "TDix8WxnqzuJ"
      },
      "execution_count": null,
      "outputs": []
    },
    {
      "cell_type": "code",
      "source": [
        "list(u) # if necessary, you can convert a np.array into a regular list (or tuple) using the list() function"
      ],
      "metadata": {
        "id": "nw5G75zF9Q-g"
      },
      "execution_count": null,
      "outputs": []
    },
    {
      "cell_type": "code",
      "source": [
        "tuple(u)"
      ],
      "metadata": {
        "id": "KKmJY3WTvc2O"
      },
      "execution_count": null,
      "outputs": []
    },
    {
      "cell_type": "markdown",
      "source": [
        "## Arrays of ones and zeros\n",
        "\n",
        "It's often useful to have a large array of zeros or ones, so that you can do something to them such as operations on other vectors."
      ],
      "metadata": {
        "id": "optCW-QoRJRR"
      }
    },
    {
      "cell_type": "code",
      "source": [
        "print(np.ones(10))\n",
        "print(np.zeros(10)) #the number in the parentheses determine the number of elements"
      ],
      "metadata": {
        "id": "H8TvVkXtRO6O"
      },
      "execution_count": null,
      "outputs": []
    },
    {
      "cell_type": "markdown",
      "source": [
        "## np.linspace (super useful)\n",
        "\n",
        "Used to generate an array with $n$ numbers evenly spaced between $a$ and $b$ (inclusive).\n",
        "\n",
        "> It also works if $a$ and $b$ are np.arrays/vectors."
      ],
      "metadata": {
        "id": "P1h4DbhPKYOa"
      }
    },
    {
      "cell_type": "code",
      "source": [
        "# Generating an array with 10**6 numbers between 0 and π using np.linspace\n",
        "xs = np.linspace(0, np.pi, 10**6)\n",
        "\n",
        "# Displaying the array and its length\n",
        "print(\"Generated array:\", xs)\n",
        "print(\"Length of the array:\", len(xs))"
      ],
      "metadata": {
        "id": "JwDs12nO9a4a"
      },
      "execution_count": null,
      "outputs": []
    },
    {
      "cell_type": "code",
      "source": [
        "# Example of np.linspace with arrays a and b\n",
        "a = np.array([0, 1, 2])\n",
        "b = np.array([2, 4, 6])\n",
        "\n",
        "# Generating an array of 5 numbers evenly spaced between arrays a and b\n",
        "example_array = np.linspace(a, b, 5)\n",
        "\n",
        "example_array #you can see the elements of each column increasing in each array"
      ],
      "metadata": {
        "id": "0k_36e8JrZyF"
      },
      "execution_count": null,
      "outputs": []
    },
    {
      "cell_type": "markdown",
      "source": [
        "## Applying Functions to NumPy Arrays\n",
        "\n",
        "You can apply a mathematical function $f : \\mathbb{R} \\to \\mathbb{R}$ to a vector in $\\mathbb{R}^n$ using NumPy. NumPy effortlessly computes $f$ on each component of the vector.\n",
        "\n",
        "> Why is this so great? It's *much* more efficient than using list comprehension.\n"
      ],
      "metadata": {
        "id": "s5R_Cft6N1W-"
      }
    },
    {
      "cell_type": "code",
      "source": [
        "np.sin(xs), np.sin(a), np.sin(b)"
      ],
      "metadata": {
        "id": "R6eNBoYS9ya9"
      },
      "execution_count": null,
      "outputs": []
    },
    {
      "cell_type": "code",
      "source": [
        "def test(x):\n",
        "    return x**2"
      ],
      "metadata": {
        "id": "Uao980i8D2QF"
      },
      "execution_count": null,
      "outputs": []
    },
    {
      "cell_type": "code",
      "source": [
        "test(xs)"
      ],
      "metadata": {
        "id": "yWQ--jq7D8zW"
      },
      "execution_count": null,
      "outputs": []
    },
    {
      "cell_type": "markdown",
      "source": [
        "## Extra (Timings!)\n",
        "\n",
        "Here we use %timeit to measure the execution time of an expression.\n",
        "\n",
        "It's worth noting:\n",
        "- ~80x faster than using `np.sin` in a list comprehension (`np.sin` is finely tuned for np.arrays, not single numbers!)\n",
        "- ~10x faster than using `math.sin` in a list comprehension\n"
      ],
      "metadata": {
        "id": "1vJWPARLOi81"
      }
    },
    {
      "cell_type": "code",
      "source": [
        "%timeit np.sin(xs)"
      ],
      "metadata": {
        "id": "B7yd2ig-OLAo"
      },
      "execution_count": null,
      "outputs": []
    },
    {
      "cell_type": "code",
      "source": [
        "%timeit [np.sin(x) for x in xs]"
      ],
      "metadata": {
        "id": "RgxWPH-59ANq"
      },
      "execution_count": null,
      "outputs": []
    },
    {
      "cell_type": "code",
      "source": [
        "import math"
      ],
      "metadata": {
        "id": "IS-FlWxKOUNT"
      },
      "execution_count": null,
      "outputs": []
    },
    {
      "cell_type": "code",
      "source": [
        "%timeit [math.sin(x) for x in xs]"
      ],
      "metadata": {
        "id": "qcWUxypJOd94"
      },
      "execution_count": null,
      "outputs": []
    },
    {
      "cell_type": "markdown",
      "source": [
        "# Concatenating: Joining Forces\n",
        "\n",
        "To combine vectors, we can use the `np.concatenate` function.\n",
        "\n",
        "> Important: The function can be supplied with either a tuple or a list of np.arrays as its input."
      ],
      "metadata": {
        "id": "1ao_4D6fKwHU"
      }
    },
    {
      "cell_type": "code",
      "source": [
        "# Concatenating (or combining) vectors u and v into a new vector c\n",
        "c = np.concatenate((u, v, u, u, v, v))\n",
        "print('Vector u', u)\n",
        "print('Vector v', v, end='\\n\\n') # \\n is newline. two of them makes a space.\n",
        "print('Concatenated vector c', c) # it's straightforward to see that c was correctly constructed using u and v"
      ],
      "metadata": {
        "id": "kSerdu1t_pQB"
      },
      "execution_count": null,
      "outputs": []
    },
    {
      "cell_type": "code",
      "source": [
        "# Using concatenate with lists\n",
        "list_a = [1, 2, 3]\n",
        "list_b = [4, 5, 6]\n",
        "\n",
        "# Concatenate lists using np.concatenate\n",
        "result_list = np.concatenate([list_a, list_b])\n",
        "result_list2 = np.concatenate((list_a, list_b))\n",
        "\n",
        "print(type(result_list))\n",
        "\n",
        "# Display the result and make it into an array\n",
        "print('result_list \\t\\t', result_list) #\\t for tab. makes outputs easier to align\n",
        "print('result_list2 \\t\\t', result_list2) #\\t for tab. makes outputs easier to align\n",
        "print('np.array(result_list)\\t', np.array(result_list))"
      ],
      "metadata": {
        "id": "P2k-STybowxw"
      },
      "execution_count": null,
      "outputs": []
    },
    {
      "cell_type": "markdown",
      "source": [
        "# Making Noise: A Symphony of Sound\n",
        "\n",
        "An np.array representing a sine wave can be transformed into sound, which you can actually experience below.\n",
        "\n",
        "- Experiment with generating tones, combining them, multiplying by a scalar, and more.\n",
        "- Utilize np.concatenate to fuse basic tones into longer vectors representing sounds.\n",
        "- Explore the art of mixing these longer sounds.\n",
        "\n",
        "For reference: [Note Frequencies](https://web.archive.org/web/20240208225516/https://pages.mtu.edu/~suits/notefreqs.html)\n",
        "\n",
        "> Tip: Note that sound playback normalizes the maximum volume. Changing the entire sound's amplitude won't affect playback volume, but adjusting part of the sound will impact its intensity."
      ],
      "metadata": {
        "id": "BtlMwbJig_kr"
      }
    },
    {
      "cell_type": "code",
      "execution_count": null,
      "metadata": {
        "id": "bAkjuheDBrA0"
      },
      "outputs": [],
      "source": [
        "# Don't mind the things below too much, you'll just be using the functions\n",
        "from IPython.display import Audio\n",
        "\n",
        "TIMESTEPS_PER_SECOND = 20_000\n",
        "\n",
        "def make_tone(freq, duration_in_sec=1.):\n",
        "    \"\"\"\n",
        "    Generate a tone represented as a numpy array.\n",
        "\n",
        "    Parameters:\n",
        "    - freq: Frequency of the tone.\n",
        "    - duration_in_sec: Duration of the tone in seconds (default is 1 second).\n",
        "\n",
        "    Returns:\n",
        "    - np.array: Numpy array representing the generated tone.\n",
        "    \"\"\"\n",
        "    ts = np.linspace(0, np.pi * 2 * duration_in_sec, int(TIMESTEPS_PER_SECOND * duration_in_sec))\n",
        "    return np.sin(ts * freq)\n",
        "\n",
        "\n",
        "def play_sound(sound: np.array):\n",
        "    \"\"\"\n",
        "    Play the given sound using IPython's Audio module.\n",
        "\n",
        "    Parameters:\n",
        "    - sound: Numpy array representing the sound.\n",
        "\n",
        "    Returns:\n",
        "    - Audio: IPython Audio object for playing the sound.\n",
        "    \"\"\"\n",
        "    return Audio(sound, rate=TIMESTEPS_PER_SECOND)"
      ]
    },
    {
      "cell_type": "code",
      "source": [
        "# Define the frequency of C4 note\n",
        "c_4_freq = 261.63  # Frequency of C4 note taken from the provided website\n",
        "\n",
        "# Generate a sound wave for C4 note that lasts 10 seconds\n",
        "c_sound = make_tone(c_4_freq, duration_in_sec=10)\n",
        "\n",
        "# Play the generated C4 sound\n",
        "# Note: This should be the last operation in a cell for proper playback\n",
        "play_sound(c_sound)"
      ],
      "metadata": {
        "id": "7U8Hvm9Exp1Q"
      },
      "execution_count": null,
      "outputs": []
    },
    {
      "cell_type": "code",
      "source": [
        "# Selecting the first 100 points of the generated np.sin sound wave for C4 note\n",
        "c_sound[:100]"
      ],
      "metadata": {
        "id": "34DVh5rXNOpG"
      },
      "execution_count": null,
      "outputs": []
    },
    {
      "cell_type": "markdown",
      "source": [
        "## Question\n",
        "\n",
        "If `c_sound` is a vector representing a sound that lasts for 1 second, what is the dimension of the vector space in which `c_sound` belongs? In simpler terms, what is the value of `n` such that `c_sound` is an element of the vector space $\\mathbb{R}^n$?"
      ],
      "metadata": {
        "id": "-GrSvB81HJPd"
      }
    },
    {
      "cell_type": "code",
      "source": [],
      "metadata": {
        "id": "Fb-RZ387-HRg"
      },
      "execution_count": null,
      "outputs": []
    },
    {
      "cell_type": "markdown",
      "source": [
        "# Visualizing graphs of functions\n",
        "\n",
        "We can use Matplotlib to create visual representations of mathematical functions.\n",
        "\n",
        "Specifically, we can plot the graph of a function  $f : X \\to \\mathbb{R}$, or namely $ \\{ (x, f(x))\\, : x \\in X \\}$. In our context, each point on the graph corresponds to a specific time t, and the plotted amplitude represents the sound wave at that time."
      ],
      "metadata": {
        "id": "qUZf9gi90LX4"
      }
    },
    {
      "cell_type": "code",
      "source": [
        "import matplotlib.pyplot as plt  # Importing the Matplotlib module for plotting\n",
        "\n",
        "s = make_tone(c_4_freq)\n",
        "\n",
        "# In this case, the x values are implicitly 0..n-1\n",
        "# where n is the length of the supplied vector\n",
        "plt.plot(s, '-')  # Plotting all 20,000 samples\n",
        "plt.title('All 20,000 samples')\n",
        "plt.show()  # Display the plot\n",
        "plt.plot(s[-100:], '.-')  # Plotting a closeup of the last 100 samples\n",
        "plt.title('Closeup, just the last 100 samples')"
      ],
      "metadata": {
        "id": "KZYBrZQ_0Wh0"
      },
      "execution_count": null,
      "outputs": []
    },
    {
      "cell_type": "markdown",
      "source": [
        "# Task 1: Generate a Range of Tones\n",
        "\n",
        "Implement a function that generates a range of tones. Play them in order.\n",
        "\n",
        "> You can use the `make_tone` function provided above.\n",
        "\n",
        "> Return the tones as a tuple or array of np.arrays.\n",
        "\n",
        " Ideally, create one *octave* of sounds starting from C4 to C5\n",
        " (including semitones like $C^{\\#}_4$). Consider selecting only full tones as they may be easier to use.\n",
        "\n",
        " Create notes that are ascending and descending in one octave.\n",
        "\n",
        ">If you're unfamiliar with musical terms, experiment with various frequencies and create sounds.\n",
        "\n",
        ">By the way, have you ever wondered about the name of the programming language C#?\n"
      ],
      "metadata": {
        "id": "ytXtHuAxLicX"
      }
    },
    {
      "cell_type": "code",
      "source": [
        "print(c_4_freq,c_4_freq*2)\n",
        "np.geomspace(c_4_freq, c_4_freq * 2, 13) # creates an array of semitone frequencies from c_4 to c_5"
      ],
      "metadata": {
        "id": "cwt2b0190gu2"
      },
      "execution_count": null,
      "outputs": []
    },
    {
      "cell_type": "code",
      "source": [
        "# Task 1 Solution: Generating a Range of Tones\n",
        "def generate_tones(from_freq):\n",
        "    # Use geometric spacing to generate tones within one octave\n",
        "    pass\n",
        "\n",
        "# Generate tones starting from C4\n",
        "tones = generate_tones(c_4_freq) # list of arrays of sin outputs\n",
        "\n",
        "print(tones)\n",
        "\n",
        "# Concatenate the tones into one long array and play the resulting sound\n",
        "play_sound(np.concatenate(tones))"
      ],
      "metadata": {
        "id": "GTgWA60c0YcO"
      },
      "execution_count": null,
      "outputs": []
    },
    {
      "cell_type": "markdown",
      "source": [
        "# Task 1b: Add white noise"
      ],
      "metadata": {
        "id": "6DfBYNA-2Mum"
      }
    },
    {
      "cell_type": "code",
      "source": [
        "# Task 1b Solution\n",
        "\n",
        "tone = make_tone(c_4_freq,duration_in_sec=5)\n",
        "\n",
        "#noise = ?\n",
        "print(noise.shape)\n",
        "\n",
        "play_sound(tone+noise)"
      ],
      "metadata": {
        "id": "B1NBhyPyT6tD"
      },
      "execution_count": null,
      "outputs": []
    },
    {
      "cell_type": "markdown",
      "source": [
        "# Task 2: Sound Manipulation\n",
        "\n",
        "Now that we have generated a variety of tones, let's explore how different mathematical operations affect the sounds.\n",
        "\n",
        "> Addition: Try adding two sounds together. What does this sound like? Does it resemble a combination of the individual tones?\n",
        "\n",
        "> Multiplication: Experiment with multiplying a sound by a number. How does this change the sound? Does it become louder or softer?\n",
        "\n",
        "> Concatenation: Concatenate two sounds. Does the resulting sound exhibit characteristics of both individual sounds?\n",
        "\n",
        "> Tip/reminder: the volume normalization during playback and consider adjusting the amplitude of the sounds to hear noticeable differences. You might need to use larger multiplication/division factors.\n",
        "\n",
        "Feel free to play around with these operations and observe how they influence the auditory experience!\n"
      ],
      "metadata": {
        "id": "kJs1DtxsT2my"
      }
    },
    {
      "cell_type": "code",
      "source": [
        "# Generate a tone for C4\n",
        "some_tone = make_tone(c_4_freq)\n",
        "\n",
        "# Amplify the first 10,000 samples by a factor of 3\n",
        "some_tone[:10000] *= 3\n",
        "\n",
        "# Play the modified sound. What do you notice about the sound?\n",
        "play_sound(some_tone)"
      ],
      "metadata": {
        "id": "W9YQlBnOI-4O"
      },
      "execution_count": null,
      "outputs": []
    },
    {
      "cell_type": "code",
      "source": [
        "# Generate an array of tones starting from C4\n",
        "tones = np.array(generate_tones(c_4_freq))\n",
        "\n",
        "# Select tones for C, E, and G to form a C major chord\n",
        "c, e, g = tones[[0, 4, 7]]\n",
        "\n",
        "# Play the C major chord by combining C, E, and G with equal weights\n",
        "play_sound(c/2 + e/2 + g)\n",
        "#The notes are divided by two to give a harmonious sound. What happens if you\n",
        "#divide by a larger number? What about a smaller number?"
      ],
      "metadata": {
        "id": "N-oClXuvlNpi"
      },
      "execution_count": null,
      "outputs": []
    },
    {
      "cell_type": "code",
      "source": [
        "plt.plot((c+e+g)[:1000]) # plot of the first 1000 points in the sound wave"
      ],
      "metadata": {
        "id": "ZfPbJbCWmO-I"
      },
      "execution_count": null,
      "outputs": []
    },
    {
      "cell_type": "code",
      "source": [
        "plt.plot(some_tone); # plot of our multiplied tone from before\n",
        "# you can see where the volume becomes quieter"
      ],
      "metadata": {
        "id": "nqmakGeIXMO2"
      },
      "execution_count": null,
      "outputs": []
    },
    {
      "cell_type": "markdown",
      "source": [
        "# Task 2.5\n",
        "\n",
        "You may have noticed there is an annoying 'click' at the end of each tone we generate with make_tone. Can you fix this?\n",
        "\n",
        "Implement a function that removes this undesired click. The goal is to create a smoother transition at the end of the sound.\n",
        "\n",
        "> It doesn't need to be overly complex, but try to make sure that the length of the np.array remains unchanged.\n",
        "\n",
        "> NEW Tip: look at the graphs above to identify potential causes of the 'click.'\n",
        "\n",
        "> NEW Tip: Consider the relationship between the vector, speaker displacement, and the resulting pressure wave in the air.\n",
        "\n",
        "> NEW Tip: Is there a possibility of gradually reducing the sound amplitude towards the end of the vector?"
      ],
      "metadata": {
        "id": "WIcmqSRYSVCP"
      }
    },
    {
      "cell_type": "code",
      "source": [
        "def fade_out(tone):\n",
        "    '''\n",
        "    Return a new tone represented as an np.array so that\n",
        "    the annoying click in 'tone' at the end disappears.\n",
        "\n",
        "    Preferably, keep the length of 'tone' the same.\n",
        "    '''\n",
        "    # stuff\n",
        "    new_tone = tone.copy()  # Make a copy to avoid modifying the original tone\n",
        "    # stuff\n",
        "    return new_tone"
      ],
      "metadata": {
        "id": "YH9oE1d7Ey7N"
      },
      "execution_count": null,
      "outputs": []
    },
    {
      "cell_type": "code",
      "source": [
        "# for example:\n",
        "some_tone = make_tone(c_4_freq)\n",
        "new_tone = fade_out(some_tone)  # Applying fade-out to the original tone\n",
        "play_sound(new_tone)  # Playing the improved sound"
      ],
      "metadata": {
        "id": "ExKUp0NYS91W"
      },
      "execution_count": null,
      "outputs": []
    },
    {
      "cell_type": "markdown",
      "source": [
        "# NEW: Task 2.6\n",
        "\n",
        "Visualize the outcome of your solution from Task 2.5 using the plt.plot function (similar to the examples above).\n",
        "\n",
        "> It is recommended to zoom in on the final section of the sound for a more detailed examination."
      ],
      "metadata": {
        "id": "hef957r32VyY"
      }
    },
    {
      "cell_type": "code",
      "source": [
        "#your code here"
      ],
      "metadata": {
        "id": "Nk1xAH_CtDtf"
      },
      "execution_count": null,
      "outputs": []
    },
    {
      "cell_type": "code",
      "source": [
        "#Task 2.6 solution\n",
        "plt.plot(new_tone);\n",
        "plt.show()\n",
        "plt.plot(new_tone[-5000:]) #the last 5000 points of the new sound"
      ],
      "metadata": {
        "id": "HbLLYA5RYb3C"
      },
      "execution_count": null,
      "outputs": []
    },
    {
      "cell_type": "markdown",
      "source": [
        "# Task 3\n",
        "\n",
        "Utilizing the tones generated in Task 1 and experimenting with operations from Task 2, compose a short song. You're encouraged to draw inspiration from popular children's songs from your country or other types of songs.\n",
        "\n",
        "> Tip: think about integrating pauses or moments of silence for rhythmic variation.\n",
        "\n",
        "> Feel free to experiment with various sequences of tones to generate interesting sounds.\n",
        "\n",
        "> NEW TIP: Combine different tones at once to create diverse musical phrases"
      ],
      "metadata": {
        "id": "p0IMS76dTQ92"
      }
    },
    {
      "cell_type": "code",
      "source": [
        "# here is one supposed classic to get you started:\n",
        "#(fun little google trip if you are confused about the song)\n",
        "length_in_sec = 273\n",
        "concert = np.zeros(length_in_sec * TIMESTEPS_PER_SECOND)\n",
        "concert[0] = 1\n",
        "play_sound(concert)"
      ],
      "metadata": {
        "id": "99-u-7PKWSsR"
      },
      "execution_count": null,
      "outputs": []
    },
    {
      "cell_type": "markdown",
      "source": [
        "# More ambitious Extra Task 4\n",
        "\n",
        "In the previous tasks, the tones had constant frequencies. However, in music, changing the frequency continuously can create unique and expressive sounds. An interesting example is the concept of a \"musical saw\" (https://en.wikipedia.org/wiki/Musical_saw), where the frequency is altered continuously.\n",
        "\n",
        "Try to generate some sounds based on this idea."
      ],
      "metadata": {
        "id": "iCEzWnA2XGEg"
      }
    },
    {
      "cell_type": "code",
      "source": [
        "#Example Solution that can be taken out\n",
        "def generate_tone_with_modulation(base_freq, modulation_freq, duration_sec=1.0):\n",
        "    # Generate time vector\n",
        "    ts = np.linspace(0, np.pi * 2 * duration_sec, int(TIMESTEPS_PER_SECOND * duration_sec))\n",
        "\n",
        "    # Modulate the frequency smoothly over time\n",
        "    modulation = np.sin(ts * modulation_freq)\n",
        "    frequency = base_freq * (1.0 + 0.2 * modulation)  # Adjust the modulation depth (0.2 in this case)\n",
        "\n",
        "    # Generate the tone with dynamic frequency\n",
        "    tone = np.sin(ts * frequency)\n",
        "\n",
        "    return tone\n",
        "\n",
        "# Example: Generate a tone with dynamic frequency modulation\n",
        "base_frequency = 261.3  # Frequency of C4 from task 1\n",
        "modulation_frequency = 2.0  # Modulation frequency in Hz\n",
        "\n",
        "dynamic_tone = generate_tone_with_modulation(base_frequency, modulation_frequency)\n",
        "play_sound(dynamic_tone)"
      ],
      "metadata": {
        "id": "TPvOLuuWaDV6"
      },
      "execution_count": null,
      "outputs": []
    },
    {
      "cell_type": "code",
      "source": [],
      "metadata": {
        "id": "8v7Xyai04sAj"
      },
      "execution_count": null,
      "outputs": []
    }
  ]
}